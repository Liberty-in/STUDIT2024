{
 "cells": [
  {
   "cell_type": "markdown",
   "id": "2b4e92ec-570d-4500-b3d9-530de2b6353b",
   "metadata": {},
   "source": [
    "# Модуль 4"
   ]
  },
  {
   "cell_type": "markdown",
   "id": "887f9c6f-82c1-4e25-89e8-3282be9c3263",
   "metadata": {},
   "source": [
    "## Разработка REST API на Flask"
   ]
  },
  {
   "cell_type": "markdown",
   "id": "0f17a145-99ef-41b7-be11-1fabcf1af3fe",
   "metadata": {},
   "source": [
    "В качестве задачи выбрана первая задача модуля 3, модель была сохранена через model.save_model(\"model1\",\n",
    "           format=\"cbm\",\n",
    "           export_parameters=None,\n",
    "           pool=None)"
   ]
  },
  {
   "cell_type": "markdown",
   "id": "2b88dd2f-519a-4933-997d-dd2976090898",
   "metadata": {},
   "source": [
    "### Код обучения модели и загрузки тренировочного датасета"
   ]
  },
  {
   "cell_type": "code",
   "execution_count": null,
   "id": "f936f72d-df1d-4eb9-8412-d17bc1ac80c0",
   "metadata": {},
   "outputs": [],
   "source": [
    "df_train = pd.read_csv('training_datasets/train_data.csv')"
   ]
  },
  {
   "cell_type": "code",
   "execution_count": null,
   "id": "d4a23255-2b84-46f4-b1d9-a53a6215f6a1",
   "metadata": {},
   "outputs": [],
   "source": [
    "def ln_x(x):\n",
    "    return np.log(x)"
   ]
  },
  {
   "cell_type": "code",
   "execution_count": null,
   "id": "caf96afe-dcab-47a7-8969-907aefb53d41",
   "metadata": {},
   "outputs": [],
   "source": [
    "def prepare(df_train):\n",
    "    df_train['feature_1'] = df_train['feature_1'].apply(ln_x)\n",
    "    Q1 = df_train['feature_3'].quantile(0.25)\n",
    "    Q3 = df_train['feature_3'].quantile(0.75)\n",
    "    IQR = Q3 - Q1\n",
    "    v,n = Q1 - 1.5 * IQR, Q3 + 1.5 * IQR  \n",
    "    df_train = df_train[(df_train['feature_3'] >= v) & (df_train['feature_3'] <= n)]\n",
    "    Q1 = df_train['feature_2'].quantile(0.25)\n",
    "    Q3 = df_train['feature_2'].quantile(0.75)\n",
    "    IQR = Q3 - Q1\n",
    "    v,n = Q1 - 1.5 * IQR, Q3 + 1.5 * IQR  \n",
    "    df_train = df_train[(df_train['feature_2'] >= v) & (df_train['feature_2'] <= n)]\n",
    "    scaler = MinMaxScaler()\n",
    "    scaler.fit(df_train[['feature_2', 'feature_3']])\n",
    "    df_train[['feature_2', 'feature_3']] = scaler.transform(df_train[['feature_2', 'feature_3']])\n",
    "    return df_train"
   ]
  },
  {
   "cell_type": "code",
   "execution_count": null,
   "id": "1ecf2cd7-4047-4aec-9cf7-7ae5bbe296f0",
   "metadata": {},
   "outputs": [],
   "source": [
    "df_train = prepare(df_train)"
   ]
  },
  {
   "cell_type": "code",
   "execution_count": null,
   "id": "64869da8-6582-42cf-a14b-35688f3f5469",
   "metadata": {},
   "outputs": [],
   "source": [
    "model = CatBoostClassifier(iterations=1000, learning_rate=0.1, depth=6)\n",
    "model.fit(df_train.drop('label', axis = 1), df_train['label'])"
   ]
  },
  {
   "cell_type": "code",
   "execution_count": null,
   "id": "d4e6545d-10c4-4536-8d48-00409368288b",
   "metadata": {},
   "outputs": [],
   "source": [
    "model.save_model(\"model1\",\n",
    "           format=\"cbm\",\n",
    "           export_parameters=None,\n",
    "           pool=None)"
   ]
  },
  {
   "cell_type": "markdown",
   "id": "142139e3-a118-4062-bbce-c58d39705b62",
   "metadata": {},
   "source": [
    "Необходимые библиотеки и глобальные переменные"
   ]
  },
  {
   "cell_type": "code",
   "execution_count": null,
   "id": "e71018aa-ff6f-4d8e-816f-5c91622bfbfe",
   "metadata": {},
   "outputs": [],
   "source": [
    "import os\n",
    "\n",
    "import requests\n",
    "from flask import *\n",
    "import pandas as pd\n",
    "import numpy as np\n",
    "from sklearn.preprocessing import MinMaxScaler\n",
    "import matplotlib.pyplot as plt\n",
    "from catboost import CatBoostClassifier\n",
    "\n",
    "info_text = 'Version 1'\n",
    "help_text ='Доступные методы:<> success() - загрузка данных на сервер<> prepare() - предобработка данных и сохранение в новый файл в сжатом формате<> print_list_datasets() - вывод доступных датасетов<> print_list_models() - вывод доступынх моделей<> predict() - осуществление предсказаний для рабочего датасета с использованием рабочей модели<> setd() - установка рабочего датасета<> setm() - установка рабочей модели<> print_info() - вывести информацию об API'\n",
    "\n",
    "app = Flask(__name__)\n",
    "ALLOWED_EXTENSIONS = {'csv'}\n",
    "work_dataset = 'train_data.pkl'\n",
    "work_model = 'model1'"
   ]
  },
  {
   "cell_type": "markdown",
   "id": "8d02147d-2c4f-4655-a3b4-18cf42045a11",
   "metadata": {},
   "source": [
    "## 4.1  Метод для загрузки данных на сервер\n",
    "Была написана функция success() для загрузки данных. Данные поддерживаются формата csv, если файлы будут неверного формата, файл не будет загружен и выведется сообщение о том, какие форматы доступны.\n"
   ]
  },
  {
   "cell_type": "markdown",
   "id": "b472996e-7983-48ad-8598-415097715269",
   "metadata": {},
   "source": [
    "Для проверки функции была написана доп страница для загрузки данных, html код:"
   ]
  },
  {
   "cell_type": "markdown",
   "id": "c4a4a97c-7e30-4f3d-87f2-d62e0f0bfc1d",
   "metadata": {},
   "source": [
    "<html>\n",
    "<head>\n",
    "    <title>upload the file : GFG</title>\n",
    "</head>\n",
    "<body>\n",
    "    <form action = \"/success\" method = \"post\" enctype=\"multipart/form-data\">\n",
    "        <input type=\"file\" name=\"file\" />\n",
    "        <input type = \"submit\" value=\"Upload\">\n",
    "    </form>\n",
    "</body>\n",
    "</html>"
   ]
  },
  {
   "cell_type": "markdown",
   "id": "846c3d3f-bd27-42c5-a63e-6e8f8edd89c5",
   "metadata": {},
   "source": [
    "main запускается в самом начале и позволяет загружать данные на сервер"
   ]
  },
  {
   "cell_type": "code",
   "execution_count": null,
   "id": "af24d3db-5b33-4862-97e7-72e3bd6456a2",
   "metadata": {},
   "outputs": [],
   "source": [
    "@app.route('/')\n",
    "def main():\n",
    "    return render_template(\"index.html\")"
   ]
  },
  {
   "cell_type": "markdown",
   "id": "834fcc8f-75f0-4412-8e35-646276d7905a",
   "metadata": {},
   "source": [
    "Код метода success:"
   ]
  },
  {
   "cell_type": "code",
   "execution_count": null,
   "id": "6ebf3274-a522-4a99-93f0-0b133aa77fc9",
   "metadata": {},
   "outputs": [],
   "source": [
    "@app.route('/success', methods=['POST'])\n",
    "def success():\n",
    "    if request.method == 'POST':\n",
    "        f = request.files['file']\n",
    "        if len(f.filename.split(\".\")) > 1:\n",
    "            if f.filename.split(\".\")[1] in ALLOWED_EXTENSIONS:\n",
    "                f.save(\"uploads/\" + f.filename)\n",
    "                return f.filename + ' успешно загружен'\n",
    "            else:\n",
    "                return f.filename + ' недопустимого формата, допускаются файлы форматов:' + str(ALLOWED_EXTENSIONS)\n",
    "        else:\n",
    "            return f.filename + ' недопустимого формата, допускаются файлы форматов:' + str(ALLOWED_EXTENSIONS)\n"
   ]
  },
  {
   "cell_type": "markdown",
   "id": "91d2c8f6-8f0e-4520-ab76-689df2a3a4f9",
   "metadata": {},
   "source": [
    "## 4.2  метод для предобработки данных и сохранения выборки в сжатом формате\n",
    "Была написана функция prepare() для обработки данных. Полученнный файл сохраняется в формате pickle и выводится его размер в Кб"
   ]
  },
  {
   "cell_type": "code",
   "execution_count": null,
   "id": "f41b3ac6-675d-4ba5-bd77-0ab156685245",
   "metadata": {},
   "outputs": [],
   "source": [
    "def ln_x(x):\n",
    "    return np.log(x)\n",
    "\n",
    "\n",
    "def prepare_data(df):\n",
    "    df['feature_1'] = df['feature_1'].apply(ln_x)\n",
    "    scaler = MinMaxScaler()\n",
    "    scaler.fit(df[['feature_2', 'feature_3']])\n",
    "    df[['feature_2', 'feature_3']] = scaler.transform(df[['feature_2', 'feature_3']])\n",
    "    return df\n",
    "\n",
    "@app.route('/prepare',  methods=['GET'])\n",
    "def prepare():\n",
    "    name = request.args.get('data')\n",
    "    if len(name.split(\".\")) > 1:\n",
    "        if name.split(\".\")[1] in ALLOWED_EXTENSIONS:\n",
    "            df = prepare_data(pd.read_csv('uploads/' + name))\n",
    "            df.to_pickle('uploads/datasets/' + name.split(\".\")[0] + '.pkl')\n",
    "            return str(os.path.getsize('uploads/datasets/' + name.split(\".\")[0] + '.pkl') / 1000) +' Кбайт занимает полученный датасет'\n",
    "        else:\n",
    "            return name + ' недопустимого формата, допускаются файлы форматов:' + str(ALLOWED_EXTENSIONS)\n",
    "    else:\n",
    "         return name + ' недопустимого формата, допускаются файлы форматов:' + str(ALLOWED_EXTENSIONS)\n"
   ]
  },
  {
   "cell_type": "markdown",
   "id": "c03fe0fb-dbc4-4472-a598-6b759585a8c8",
   "metadata": {},
   "source": [
    "## 4.3 Метод для списка доступных наборов данных \n",
    "Была написана функция print_list_datasets() для вывода доступных датасетов"
   ]
  },
  {
   "cell_type": "code",
   "execution_count": null,
   "id": "64618990-f9ce-4ae4-9ede-240bb6d7b791",
   "metadata": {},
   "outputs": [],
   "source": [
    "@app.route('/request_data')\n",
    "def print_list_datasets():\n",
    "    return os.listdir('uploads/datasets')"
   ]
  },
  {
   "cell_type": "markdown",
   "id": "06f68d15-2f15-4066-83d6-fbaf92759a83",
   "metadata": {},
   "source": [
    "## 4.4 Метод для выбора рабочего набора данных\n",
    "Была написана функция setd() для выбоа рабочего датасета"
   ]
  },
  {
   "cell_type": "code",
   "execution_count": null,
   "id": "1c7a0d78-7349-4f0d-8282-f3e9ca3e8134",
   "metadata": {},
   "outputs": [],
   "source": [
    "@app.route('/setd',  methods=['GET'])\n",
    "def setd():\n",
    "    c_dataset = request.args.get('dataset')\n",
    "    work_dataset = c_dataset\n",
    "    return work_dataset + ' - текущий рабочий датасет'"
   ]
  },
  {
   "cell_type": "markdown",
   "id": "9502be18-1b8d-4c2f-9355-b0a5c63eac6e",
   "metadata": {},
   "source": [
    "## 4.5  Метод для списка доступных моделей \n",
    "Была написана функция print_list_models() для вывода всех доступных моделей"
   ]
  },
  {
   "cell_type": "code",
   "execution_count": null,
   "id": "066f68db-e0d4-44d5-9000-65ca61bf3754",
   "metadata": {},
   "outputs": [],
   "source": [
    "@app.route('/request_model')\n",
    "def print_list_models():\n",
    "    return os.listdir('uploads/models')"
   ]
  },
  {
   "cell_type": "markdown",
   "id": "0cc772df-d639-4cbf-bae3-1d5b7cc4e364",
   "metadata": {},
   "source": [
    "## 4.6  Метод для выбора модели в качестве рабочей\n",
    "Была написана функция setm() для выбора рабочей модели"
   ]
  },
  {
   "cell_type": "code",
   "execution_count": null,
   "id": "fee4f13c-ce39-4372-9036-dbcaacd4498f",
   "metadata": {},
   "outputs": [],
   "source": [
    "@app.route('/setm',  methods=['GET'])\n",
    "def setm():\n",
    "    c_model = request.args.get('model')\n",
    "    work_model = c_model\n",
    "    return work_model + ' - текущая модель'"
   ]
  },
  {
   "cell_type": "markdown",
   "id": "19f6f40b-b653-4d90-aad5-2879def06bce",
   "metadata": {},
   "source": [
    "## 4.7  Метод для выполнения предсказаний при помощи рабочей модели и рабочего набора данных\n",
    "Была написана функция predict() для получения предсказаний. Работает с рабочей моделью и датасетом"
   ]
  },
  {
   "cell_type": "code",
   "execution_count": null,
   "id": "40b12471-87cb-4258-b7cb-280f5d59a731",
   "metadata": {},
   "outputs": [],
   "source": [
    "@app.route('/predict')\n",
    "def predict():\n",
    "    df = pd.read_pickle('uploads/datasets/' + work_dataset)\n",
    "    from_file = CatBoostClassifier()\n",
    "    from_file.load_model('uploads/models/'+ work_model, format='cbm')\n",
    "    preds = from_file.predict(df)\n",
    "    return np.squeeze(preds).tolist()"
   ]
  },
  {
   "cell_type": "markdown",
   "id": "c9b9dd92-9d21-47e4-b942-16f8b3976a12",
   "metadata": {},
   "source": [
    "## 4.9  Метод для вывода информации о имеющихся в API методах \n",
    "Была написана функция print_help() для вывода информации о имеющихся методах"
   ]
  },
  {
   "cell_type": "code",
   "execution_count": null,
   "id": "5b7fbb24-10dc-4798-a9a7-0cc8e118515c",
   "metadata": {},
   "outputs": [],
   "source": [
    "@app.route('/help')\n",
    "def print_help():\n",
    "    return help_text.split('<>')"
   ]
  },
  {
   "cell_type": "markdown",
   "id": "f0a8b0bc-a4b6-4937-a684-22f7403f64ad",
   "metadata": {},
   "source": [
    "## 4.10  Метод для запроса информации о текущей версии API\n",
    "Была написана функция print_info() для вывода информации о текущей версии"
   ]
  },
  {
   "cell_type": "code",
   "execution_count": null,
   "id": "8d4976d8-78f3-4cfb-839a-8355f7c7016b",
   "metadata": {},
   "outputs": [],
   "source": [
    "@app.route('/info')\n",
    "def print_info():\n",
    "    return info_text\n"
   ]
  },
  {
   "cell_type": "markdown",
   "id": "5c736a85-467b-4d4d-977c-f9fc42b0ee4b",
   "metadata": {},
   "source": [
    "# Вывод\n",
    "В результате выполнени модуля:\n",
    " - были написаны методы для основного функционала API\n"
   ]
  }
 ],
 "metadata": {
  "kernelspec": {
   "display_name": "Python 3 (ipykernel)",
   "language": "python",
   "name": "python3"
  },
  "language_info": {
   "codemirror_mode": {
    "name": "ipython",
    "version": 3
   },
   "file_extension": ".py",
   "mimetype": "text/x-python",
   "name": "python",
   "nbconvert_exporter": "python",
   "pygments_lexer": "ipython3",
   "version": "3.12.7"
  }
 },
 "nbformat": 4,
 "nbformat_minor": 5
}
